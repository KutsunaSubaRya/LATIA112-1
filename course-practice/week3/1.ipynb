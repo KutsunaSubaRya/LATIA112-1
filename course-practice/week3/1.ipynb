{
 "cells": [
  {
   "cell_type": "code",
   "execution_count": 1,
   "metadata": {},
   "outputs": [
    {
     "name": "stdout",
     "output_type": "stream",
     "text": [
      "dp001_video_item_sn  dp001_indicator\n",
      "513.0                111-3a-01           44\n",
      "1087.0               5-n-10-S01         544\n",
      "10044.0              111-3a-02           52\n",
      "Name: dp001_video_item_sn, dtype: int64\n"
     ]
    },
    {
     "name": "stderr",
     "output_type": "stream",
     "text": [
      "/var/folders/56/_vl4rcz57pl1xh8wcwzq58lh0000gn/T/ipykernel_64758/465946597.py:3: DtypeWarning: Columns (16,29,30,31,32,33,34,35,36,37,38,39) have mixed types. Specify dtype option on import or set low_memory=False.\n",
      "  raw_data = pd.read_csv('./edu_sample_data.csv', encoding='big5')\n"
     ]
    }
   ],
   "source": [
    "import pandas as pd\n",
    "\n",
    "raw_data = pd.read_csv('./edu_sample_data.csv', encoding='big5')\n",
    "s281 = raw_data[raw_data['PseudoID']==281]\n",
    "s281_ans = s281.groupby(['dp001_video_item_sn', 'dp001_indicator'])['dp001_video_item_sn'].count()\n",
    "\n",
    "print(s281_ans)"
   ]
  }
 ],
 "metadata": {
  "kernelspec": {
   "display_name": "Python 3",
   "language": "python",
   "name": "python3"
  },
  "language_info": {
   "codemirror_mode": {
    "name": "ipython",
    "version": 3
   },
   "file_extension": ".py",
   "mimetype": "text/x-python",
   "name": "python",
   "nbconvert_exporter": "python",
   "pygments_lexer": "ipython3",
   "version": "3.11.4"
  },
  "orig_nbformat": 4
 },
 "nbformat": 4,
 "nbformat_minor": 2
}
